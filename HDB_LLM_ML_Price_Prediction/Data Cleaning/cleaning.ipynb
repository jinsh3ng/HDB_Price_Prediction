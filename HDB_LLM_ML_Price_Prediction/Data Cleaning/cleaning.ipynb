{
 "cells": [
  {
   "cell_type": "code",
   "execution_count": 30,
   "id": "8481934f",
   "metadata": {},
   "outputs": [],
   "source": [
    "import pandas as pd\n",
    "import os\n",
    "import numpy as np\n",
    "all_dfs = []\n",
    "\n",
    "for filename in os.listdir(\"../Data\"):\n",
    "   filepath = os.path.join(\"../Data\", filename)\n",
    "   df = pd.read_csv(filepath, low_memory=False)\n",
    "   all_dfs.append(df)\n",
    "\n",
    "combined_df = pd.concat(all_dfs, ignore_index=True)"
   ]
  },
  {
   "cell_type": "markdown",
   "id": "b75d2210",
   "metadata": {},
   "source": [
    "**Cleaning to be done**\n",
    "\n",
    "1. Sort Floor Level into three categories: Low, Medium, High. \n",
    "\n",
    "I reference from https://www.propertyguru.com.sg/property-investment-questions/what-is-the-standard-of-low-floor-middle-floor-high-floor-and-penthouse-i-mean-to-which-floor-is-it-middle-floor-and-from-which-floor-is-it-high-floor-thank-you-497576#:~:text=3%20Answers,the%20Singapore%20real%20estate%20market.\n",
    "\n",
    "Low floor: Typically refers to the first 5 floors of a building.\n",
    "<br>Middle floor: Generally refers to floors 6 to 20.\n",
    "<br>High floor: Usually refers to floors 21 and above.\n",
    "\n",
    "2. Filter out column \"remaining_lease\" as there are missing data.\n",
    "\n",
    "3. Filter column \"flat_model\" and \"block\" as not essential."
   ]
  },
  {
   "cell_type": "code",
   "execution_count": null,
   "id": "f13baba9",
   "metadata": {},
   "outputs": [],
   "source": [
    "combined_df.drop(columns=[\"flat_model\",\"block\", \"remaining_lease\"], inplace=True)\n",
    "\n",
    "second_numbers = combined_df[\"storey_range\"].str.split(\" TO \").str[1].astype(int)\n",
    "combined_df[\"storey_range\"] = np.where(second_numbers <= 5, \"low\",\n",
    "                                      np.where(second_numbers >= 21, \"high\", \"medium\"))\n",
    "\n",
    "combined_df.to_csv(\"../Data/cleaned_data.csv\", index=False)"
   ]
  },
  {
   "cell_type": "markdown",
   "id": "a1e3ee5f",
   "metadata": {},
   "source": []
  }
 ],
 "metadata": {
  "kernelspec": {
   "display_name": "Python 3",
   "language": "python",
   "name": "python3"
  },
  "language_info": {
   "codemirror_mode": {
    "name": "ipython",
    "version": 3
   },
   "file_extension": ".py",
   "mimetype": "text/x-python",
   "name": "python",
   "nbconvert_exporter": "python",
   "pygments_lexer": "ipython3",
   "version": "3.11.9"
  }
 },
 "nbformat": 4,
 "nbformat_minor": 5
}
